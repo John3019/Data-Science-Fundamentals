{
 "cells": [
  {
   "attachments": {},
   "cell_type": "markdown",
   "metadata": {},
   "source": [
    "# Worksheet 08\n",
    "\n",
    "Name:  John Salloum\n",
    "UID: U13233738\n",
    "\n",
    "### Topics\n",
    "\n",
    "- Soft Clustering\n",
    "- Clustering Aggregation\n",
    "\n",
    "### Probability Review\n",
    "\n",
    "Read through [the following](https://medium.com/@gallettilance/overview-of-probability-3272b72c82c8)\n",
    "\n",
    "### Soft Clustering\n",
    "\n",
    "We generate 10 data points that come from a normal distribution with mean 5 and variance 1."
   ]
  },
  {
   "cell_type": "code",
   "execution_count": 34,
   "metadata": {},
   "outputs": [
    {
     "name": "stdout",
     "output_type": "stream",
     "text": [
      "[6.2241030546858696, 4.258823235883537, 5.377695337613099, 6.70013444526504, 6.423830755628545, 6.273082570891855, 4.827992244456105, 6.183300354484212, 5.878435488341024, 5.239692643946462]\n"
     ]
    }
   ],
   "source": [
    "import random\n",
    "import numpy as np\n",
    "from sklearn.cluster import KMeans\n",
    "\n",
    "mean = 5\n",
    "stdev = 1\n",
    "\n",
    "s1 = np.random.normal(mean, stdev, 10).tolist()\n",
    "print(s1)"
   ]
  },
  {
   "cell_type": "markdown",
   "metadata": {},
   "source": [
    "a) Generate 10 more data points, this time coming from a normal distribution with mean 8 and variance 1."
   ]
  },
  {
   "cell_type": "code",
   "execution_count": 35,
   "metadata": {},
   "outputs": [
    {
     "name": "stdout",
     "output_type": "stream",
     "text": [
      "[9.013780652608993, 7.858575115710112, 9.483948631331907, 7.967749958701342, 8.406982644157026, 7.609372672427472, 6.784287923673, 7.328738452888659, 7.447935929995817, 9.27319682494784]\n"
     ]
    }
   ],
   "source": [
    "s2 = np.random.normal( 8 , 1 , 10 ).tolist()\n",
    "print(s2)"
   ]
  },
  {
   "attachments": {},
   "cell_type": "markdown",
   "metadata": {},
   "source": [
    "b) Flip a fair coin 10 times. If the coin lands on H, then pick the last data point of `s1` and remove it from `s1`, if T then pick the last data point from `s2` and remove it from `s2`. Add these 10 points to a list called `data`."
   ]
  },
  {
   "cell_type": "code",
   "execution_count": 36,
   "metadata": {},
   "outputs": [
    {
     "name": "stdout",
     "output_type": "stream",
     "text": [
      "[9.27319682494784, 7.447935929995817, 5.239692643946462, 5.878435488341024, 6.183300354484212, 4.827992244456105, 6.273082570891855, 7.328738452888659, 6.423830755628545, 6.70013444526504]\n"
     ]
    }
   ],
   "source": [
    "data = []\n",
    "for i in range(10):\n",
    "    # flip coin\n",
    "    coin_output = random.choice([0, 1])\n",
    "    if coin_output == 0:\n",
    "        p1 = s1.pop()\n",
    "        data.append(p1)\n",
    "    else:\n",
    "        p2 = s2.pop()\n",
    "        data.append(p2)\n",
    "print(data)"
   ]
  },
  {
   "cell_type": "markdown",
   "metadata": {},
   "source": [
    "c) This `data` is a Gaussian Mixture Distribution with 2 mixture components. Over the next few questions we will walk through the GMM algorithm to see if we can uncover the parameters we used to generate this data. First, please list all these parameters of the GMM that created `data` and the values we know they have."
   ]
  },
  {
   "cell_type": "markdown",
   "metadata": {},
   "source": [
    "Probability of being species 1, species 2, mean and variance of weight of species 1, mean and varience of weight of species 2"
   ]
  },
  {
   "cell_type": "markdown",
   "metadata": {},
   "source": [
    "d) Let's assume there are two mixture components (note: we could plot the data and make the observation that there are two clusters). The EM algorithm asks us to start with a random `mean_j`, `variance_j`, `P(S_j)` for each component j. One method we could use to find sensible values for these is to apply K means with k=2 here.\n",
    "\n",
    "1. the centroids would be the estimates of the `mean_j`\n",
    "2. the intra-cluster variance could be the estimate of `variance_j`\n",
    "3. the proportion of points in each cluster could be the estimate of `P(S_j)`\n",
    "\n",
    "Go through this process and list the parameter estimates it gives. Are they close or far from the true values?"
   ]
  },
  {
   "cell_type": "code",
   "execution_count": 37,
   "metadata": {},
   "outputs": [
    {
     "name": "stdout",
     "output_type": "stream",
     "text": [
      "[9.27319682494784, 7.447935929995817, 7.328738452888659]\n",
      "[5.239692643946462, 5.878435488341024, 6.183300354484212, 4.827992244456105, 6.273082570891855, 6.423830755628545, 6.70013444526504]\n",
      "P(S_1) = 0.3,  P(S_2) = 0.7\n",
      "mean_1 = 8.016623735944107,  mean_2 = 5.932352643287607\n",
      "var_1 = 0.7918559704289789,  var_2 = 0.3874868703528599\n"
     ]
    }
   ],
   "source": [
    "kmeans = KMeans(2, init='k-means++').fit(X=np.array(data).reshape(-1, 1))\n",
    "\n",
    "s1 = [x[0] for x in filter(lambda x: x[1] == 0, zip(data, kmeans.labels_))]\n",
    "print(s1)\n",
    "s2 = [x[0] for x in filter(lambda x: x[1] == 1, zip(data, kmeans.labels_))]\n",
    "print(s2)\n",
    "\n",
    "prob_s = [ len(s1) / (len(s1) + len(s2)) , len(s2) / (len(s1) + len(s2)) ]\n",
    "mean = [ sum(s1)/len(s1) ,  sum(s2)/len(s2) ]\n",
    "var = [ sum(map(lambda x : (x - mean[0])**2, s1)) / len(s1) , sum(map(lambda x : (x - mean[1])**2, s2)) / len(s2) ]\n",
    "\n",
    "print(\"P(S_1) = \" + str(prob_s[0]) + \",  P(S_2) = \" + str(prob_s[1]))\n",
    "print(\"mean_1 = \" + str(mean[0]) + \",  mean_2 = \" + str(mean[1]))\n",
    "print(\"var_1 = \" + str(var[0]) + \",  var_2 = \" + str(var[1]))"
   ]
  },
  {
   "cell_type": "markdown",
   "metadata": {},
   "source": []
  },
  {
   "cell_type": "markdown",
   "metadata": {},
   "source": [
    "e) For each data point, compute `P(S_j | X_i)`. Comment on which cluster you think each point belongs to based on the estimated probabilities. How does that compare to the truth?"
   ]
  },
  {
   "cell_type": "code",
   "execution_count": 38,
   "metadata": {},
   "outputs": [
    {
     "name": "stdout",
     "output_type": "stream",
     "text": [
      "point =  9.27319682494784\n",
      "probability of observing that point if it came from cluster 0 =  0.1430383954284032\n",
      "probability of observing that point if it came from cluster 1 =  7.427162158513885e-17\n",
      "point =  7.447935929995817\n",
      "probability of observing that point if it came from cluster 0 =  0.38928350510262494\n",
      "probability of observing that point if it came from cluster 1 =  0.0004905131227923362\n",
      "point =  5.239692643946462\n",
      "probability of observing that point if it came from cluster 0 =  0.0010758869679249655\n",
      "probability of observing that point if it came from cluster 1 =  0.20834312731570614\n",
      "point =  5.878435488341024\n",
      "probability of observing that point if it came from cluster 0 =  0.013152193181624897\n",
      "probability of observing that point if it came from cluster 1 =  1.019644471617352\n",
      "point =  6.183300354484212\n",
      "probability of observing that point if it came from cluster 0 =  0.034538100405361885\n",
      "probability of observing that point if it came from cluster 1 =  0.8347885317557792\n",
      "point =  4.827992244456105\n",
      "probability of observing that point if it came from cluster 0 =  0.00015178431302446697\n",
      "probability of observing that point if it came from cluster 1 =  0.01773379652153554\n",
      "point =  6.273082570891855\n",
      "probability of observing that point if it came from cluster 0 =  0.044618117099784256\n",
      "probability of observing that point if it came from cluster 1 =  0.6994378518128506\n",
      "point =  7.328738452888659\n",
      "probability of observing that point if it came from cluster 0 =  0.34545854770410755\n",
      "probability of observing that point if it came from cluster 1 =  0.0015582587749069319\n",
      "point =  6.423830755628545\n",
      "probability of observing that point if it came from cluster 0 =  0.06663238083432707\n",
      "probability of observing that point if it came from cluster 1 =  0.46058815895591637\n",
      "point =  6.70013444526504\n",
      "probability of observing that point if it came from cluster 0 =  0.12649199684334866\n",
      "probability of observing that point if it came from cluster 1 =  0.14458083392788312\n",
      "9.27319682494784\n",
      "Probability of coming from S_1 = 0.9999999999999989\n",
      "Probability of coming from S_2 = 1.2115659564432688e-15\n",
      "\n",
      "7.447935929995817\n",
      "Probability of coming from S_1 = 0.9970685234790302\n",
      "Probability of coming from S_2 = 0.0029314765209697857\n",
      "\n",
      "5.239692643946462\n",
      "Probability of coming from S_1 = 0.0022082619355275447\n",
      "Probability of coming from S_2 = 0.9977917380644725\n",
      "\n",
      "5.878435488341024\n",
      "Probability of coming from S_1 = 0.005497667009220592\n",
      "Probability of coming from S_2 = 0.9945023329907795\n",
      "\n",
      "6.183300354484212\n",
      "Probability of coming from S_1 = 0.01742256031334447\n",
      "Probability of coming from S_2 = 0.9825774396866555\n",
      "\n",
      "4.827992244456105\n",
      "Probability of coming from S_1 = 0.0036547547198863915\n",
      "Probability of coming from S_2 = 0.9963452452801136\n",
      "\n",
      "6.273082570891855\n",
      "Probability of coming from S_1 = 0.02661162991761608\n",
      "Probability of coming from S_2 = 0.973388370082384\n",
      "\n",
      "7.328738452888659\n",
      "Probability of coming from S_1 = 0.989584661748357\n",
      "Probability of coming from S_2 = 0.010415338251642913\n",
      "\n",
      "6.423830755628545\n",
      "Probability of coming from S_1 = 0.05838093173815721\n",
      "Probability of coming from S_2 = 0.9416190682618428\n",
      "\n",
      "6.70013444526504\n",
      "Probability of coming from S_1 = 0.27270182102148516\n",
      "Probability of coming from S_2 = 0.7272981789785148\n",
      "\n"
     ]
    }
   ],
   "source": [
    "from scipy.stats import norm\n",
    "\n",
    "prob_s0_x = [] # P(S_0 | X_i)\n",
    "prob_s1_x = [] # P(S_1 | X_i)\n",
    "prob_x = [] # P(X_i)\n",
    "\n",
    "k = 2\n",
    "\n",
    "for p in data:\n",
    "    print(\"point = \", p)\n",
    "    pdf_i = []\n",
    "\n",
    "    for j in range(k):\n",
    "        # P(X_i | S_j)\n",
    "        pdf_i.append(norm.pdf(p, mean[j], var[j]))\n",
    "        print(\"probability of observing that point if it came from cluster \" + str(j) + \" = \", pdf_i[j])\n",
    "        # P(S_j) already computed\n",
    "        prob_s[j]\n",
    "\n",
    "    #pdf_i[0] = p(p | s_0)\n",
    "\n",
    "    # P(X_i) = P(S_0)P(X_i | S_0) + P(S_1)P(X_i | S_1)\n",
    "    prob_x = prob_s[0] * pdf_i[0] + prob_s[1] * pdf_i[1]\n",
    "\n",
    "    # P(S_j | X_i) = P(X_i | S_j)P(S_j) / P(X_i)\n",
    "    prob_s0_x.append( pdf_i[0]* prob_s[0]/prob_x )\n",
    "    prob_s1_x.append( pdf_i[1]* prob_s[1]/prob_x )\n",
    "\n",
    "probs = zip(data, prob_s0_x, prob_s1_x)\n",
    "for p in probs:\n",
    "    print(p[0])\n",
    "    print(\"Probability of coming from S_1 = \" + str(p[1]))\n",
    "    print(\"Probability of coming from S_2 = \" + str(p[2]))\n",
    "    print()\n"
   ]
  },
  {
   "cell_type": "markdown",
   "metadata": {},
   "source": [
    "f) Having computed `P(S_j | X_i)`, update the estimates of `mean_j`, `var_j`, and `P(S_j)`. How different are these values from the original ones you got from K means? briefly comment."
   ]
  },
  {
   "cell_type": "code",
   "execution_count": 39,
   "metadata": {},
   "outputs": [
    {
     "name": "stdout",
     "output_type": "stream",
     "text": [
      "P(S_1) = 0.3,  P(S_2) = 0.7\n",
      "mean_1 = 7.853260170554176,  mean_2 = 5.898149600704986\n",
      "var_1 = 0.9247173108934132,  var_2 = 0.384362776431258\n"
     ]
    }
   ],
   "source": [
    "prob_c = [sum(prob_s0_x)/ len(prob_s0_x), sum(prob_s1_x)/ len(prob_s1_x) ]\n",
    "mean = [sum([x[0] * x[1] for x in zip(prob_s0_x, data)]) / sum(prob_s0_x), sum([x[0] * x[1] for x in zip(prob_s1_x, data)]) / sum(prob_s1_x) ]\n",
    "var = [ sum([x[0] * (x[1] - mean[0])**2 for x in zip(prob_s0_x, data)]) / sum(prob_s0_x) , sum([x[0] * (x[1] - mean[1])**2 for x in zip(prob_s1_x, data)]) / sum(prob_s1_x) ]\n",
    "\n",
    "print(\"P(S_1) = \" + str(prob_s[0]) + \",  P(S_2) = \" + str(prob_s[1]))\n",
    "print(\"mean_1 = \" + str(mean[0]) + \",  mean_2 = \" + str(mean[1]))\n",
    "print(\"var_1 = \" + str(var[0]) + \",  var_2 = \" + str(var[1]))"
   ]
  },
  {
   "cell_type": "markdown",
   "metadata": {},
   "source": []
  },
  {
   "cell_type": "markdown",
   "metadata": {},
   "source": [
    "g) Update `P(S_j | X_i)`. Comment on any differences or lack thereof you observe."
   ]
  },
  {
   "cell_type": "code",
   "execution_count": null,
   "metadata": {},
   "outputs": [],
   "source": []
  },
  {
   "cell_type": "markdown",
   "metadata": {},
   "source": []
  },
  {
   "cell_type": "markdown",
   "metadata": {},
   "source": [
    "h) Use `P(S_j | X_i)` to create a hard assignment - label each point as belonging to a specific cluster (0 or 1)"
   ]
  },
  {
   "cell_type": "code",
   "execution_count": null,
   "metadata": {},
   "outputs": [],
   "source": []
  }
 ],
 "metadata": {
  "kernelspec": {
   "display_name": "Python 3",
   "language": "python",
   "name": "python3"
  },
  "language_info": {
   "codemirror_mode": {
    "name": "ipython",
    "version": 3
   },
   "file_extension": ".py",
   "mimetype": "text/x-python",
   "name": "python",
   "nbconvert_exporter": "python",
   "pygments_lexer": "ipython3",
   "version": "3.8.5"
  },
  "orig_nbformat": 4,
  "vscode": {
   "interpreter": {
    "hash": "e7370f93d1d0cde622a1f8e1c04877d8463912d04d973331ad4851f04de6915a"
   }
  }
 },
 "nbformat": 4,
 "nbformat_minor": 2
}
